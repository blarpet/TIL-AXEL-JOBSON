{
 "metadata": {
  "language_info": {
   "codemirror_mode": {
    "name": "ipython",
    "version": 3
   },
   "file_extension": ".py",
   "mimetype": "text/x-python",
   "name": "python",
   "nbconvert_exporter": "python",
   "pygments_lexer": "ipython3",
   "version": "3.8.3-final"
  },
  "orig_nbformat": 2,
  "kernelspec": {
   "name": "python3",
   "display_name": "Python 3.8.3 64-bit (conda)",
   "metadata": {
    "interpreter": {
     "hash": "e64f03b2c214f36c8a0d0471c50d2a9adb953d3117efb41f355fd5cfa2269424"
    }
   }
  }
 },
 "nbformat": 4,
 "nbformat_minor": 2,
 "cells": [
  {
   "cell_type": "code",
   "execution_count": 1,
   "metadata": {},
   "outputs": [
    {
     "output_type": "stream",
     "name": "stdout",
     "text": [
      "1\n3\n5\n7\n9\n945\n"
     ]
    }
   ],
   "source": [
    "y=1\n",
    "\n",
    "for x in range(1, 10, 2):\n",
    "    print(f\"{x}\")\n",
    "    y=y*x\n",
    "\n",
    "print(f\"{y}\")"
   ]
  },
  {
   "cell_type": "code",
   "execution_count": 8,
   "metadata": {},
   "outputs": [
    {
     "output_type": "stream",
     "name": "stdout",
     "text": [
      "154500.0\n"
     ]
    }
   ],
   "source": [
    "kr = 10000\n",
    "r = 1.03\n",
    "kr = 15*kr*r\n",
    "print(f\"{kr}\")"
   ]
  },
  {
   "cell_type": "code",
   "execution_count": 7,
   "metadata": {},
   "outputs": [
    {
     "output_type": "stream",
     "name": "stdout",
     "text": [
      "Du har så här många riksdollar: 154500.0\n"
     ]
    }
   ],
   "source": [
    "r = float(input(\"Ange förändrings faktor i decimaler: \"))\n",
    "riksdolla = int(input(\"Hur många riksdollar har du bror: \"))\n",
    "år = int(input(\"Hur månge år skall dinna riksdollar sova: \"))\n",
    "\n",
    "riksdolla = år*riksdolla*r\n",
    "\n",
    "print( \"Du har så här många riksdollar: \" f\"{riksdolla}\")"
   ]
  },
  {
   "cell_type": "code",
   "execution_count": 12,
   "metadata": {},
   "outputs": [
    {
     "output_type": "stream",
     "name": "stdout",
     "text": [
      "287550.0\n"
     ]
    }
   ],
   "source": [
    "kr = 0\n",
    "r = 1.065\n",
    "\n",
    "for i in range(1, 19):\n",
    "       kr = kr+15000*r\n",
    "print(f\"{kr}\")\n",
    "\n",
    "#Matten stämmer inte helt men skall kolla med kokchun."
   ]
  },
  {
   "cell_type": "code",
   "execution_count": null,
   "metadata": {},
   "outputs": [],
   "source": [
    "längd = int(input(\"Vad är längden av din rektangel?\"))\n",
    "bredd = int(input(\"Vad är bredden av din rektangel?\"))\n",
    "\n",
    "area = längd * bredd\n",
    "\n",
    "if längd % bredd == 0:\n",
    "    print(\"Detta är en kvadrat. Arean är \" f\"{area}\")\n",
    "else:\n",
    "    print(\"Rektangels area är \" f\"{area}\")\n",
    "\n",
    "\n",
    "\n",
    "print(\"Om det var ett rätblock så skulle volymen vara \")\n"
   ]
  },
  {
   "cell_type": "code",
   "execution_count": 39,
   "metadata": {
    "tags": []
   },
   "outputs": [
    {
     "output_type": "stream",
     "name": "stdout",
     "text": [
      "Multiplikations tabel för 1\n1 X 1 = 1\n1 X 2 = 2\n1 X 3 = 3\n1 X 4 = 4\n1 X 5 = 5\n1 X 6 = 6\n1 X 7 = 7\n1 X 8 = 8\n1 X 9 = 9\n1 X 10 = 10\nMultiplikations tabel för 2\n2 X 1 = 2\n2 X 2 = 4\n2 X 3 = 6\n2 X 4 = 8\n2 X 5 = 10\n2 X 6 = 12\n2 X 7 = 14\n2 X 8 = 16\n2 X 9 = 18\n2 X 10 = 20\nMultiplikations tabel för 3\n3 X 1 = 3\n3 X 2 = 6\n3 X 3 = 9\n3 X 4 = 12\n3 X 5 = 15\n3 X 6 = 18\n3 X 7 = 21\n3 X 8 = 24\n3 X 9 = 27\n3 X 10 = 30\nMultiplikations tabel för 4\n4 X 1 = 4\n4 X 2 = 8\n4 X 3 = 12\n4 X 4 = 16\n4 X 5 = 20\n4 X 6 = 24\n4 X 7 = 28\n4 X 8 = 32\n4 X 9 = 36\n4 X 10 = 40\nMultiplikations tabel för 5\n5 X 1 = 5\n5 X 2 = 10\n5 X 3 = 15\n5 X 4 = 20\n5 X 5 = 25\n5 X 6 = 30\n5 X 7 = 35\n5 X 8 = 40\n5 X 9 = 45\n5 X 10 = 50\nMultiplikations tabel för 6\n6 X 1 = 6\n6 X 2 = 12\n6 X 3 = 18\n6 X 4 = 24\n6 X 5 = 30\n6 X 6 = 36\n6 X 7 = 42\n6 X 8 = 48\n6 X 9 = 54\n6 X 10 = 60\nMultiplikations tabel för 7\n7 X 1 = 7\n7 X 2 = 14\n7 X 3 = 21\n7 X 4 = 28\n7 X 5 = 35\n7 X 6 = 42\n7 X 7 = 49\n7 X 8 = 56\n7 X 9 = 63\n7 X 10 = 70\nMultiplikations tabel för 8\n8 X 1 = 8\n8 X 2 = 16\n8 X 3 = 24\n8 X 4 = 32\n8 X 5 = 40\n8 X 6 = 48\n8 X 7 = 56\n8 X 8 = 64\n8 X 9 = 72\n8 X 10 = 80\nMultiplikations tabel för 9\n9 X 1 = 9\n9 X 2 = 18\n9 X 3 = 27\n9 X 4 = 36\n9 X 5 = 45\n9 X 6 = 54\n9 X 7 = 63\n9 X 8 = 72\n9 X 9 = 81\n9 X 10 = 90\nMultiplikations tabel för 10\n10 X 1 = 10\n10 X 2 = 20\n10 X 3 = 30\n10 X 4 = 40\n10 X 5 = 50\n10 X 6 = 60\n10 X 7 = 70\n10 X 8 = 80\n10 X 9 = 90\n10 X 10 = 100\n"
     ]
    }
   ],
   "source": [
    "for i in range(1,11):\n",
    "    print(f\"Multiplikations tabel för {i}\")\n",
    "    for j in range(1,11):\n",
    "        print(f\"{i} X {j} = {i*j}\")"
   ]
  },
  {
   "cell_type": "code",
   "execution_count": 44,
   "metadata": {},
   "outputs": [
    {
     "output_type": "stream",
     "name": "stdout",
     "text": [
      "1 X 12 = 12\n2 X 12 = 24\n3 X 12 = 36\n4 X 12 = 48\n5 X 12 = 60\n6 X 12 = 72\n7 X 12 = 84\n8 X 12 = 96\n9 X 12 = 108\n10 X 12 = 120\n"
     ]
    }
   ],
   "source": [
    "tal = int(input(\"Vad för tal vill du göra en multiplikations tabell för?\"))\n",
    "\n",
    "for i in range(1,11):\n",
    "    print(f\"{i} X {tal} = {tal*i}\")"
   ]
  },
  {
   "cell_type": "code",
   "execution_count": 59,
   "metadata": {},
   "outputs": [
    {
     "output_type": "stream",
     "name": "stdout",
     "text": [
      "1 X 15 = 15\n2 X 15 = 30\n3 X 15 = 45\n4 X 15 = 60\n5 X 15 = 75\n6 X 15 = 90\n7 X 15 = 105\n8 X 15 = 120\n9 X 15 = 135\n10 X 15 = 150\n11 X 15 = 165\n12 X 15 = 180\n13 X 15 = 195\n14 X 15 = 210\n15 X 15 = 225\n"
     ]
    }
   ],
   "source": [
    "num = int(input(\"Vad för tal vill du göra en multiplikations tabell för?\"))\n",
    "amount = int(input(\"Hur många gånger vill du multiplitera ditt tal?\"))\n",
    "\n",
    "if num > 15:\n",
    "    num = 0\n",
    "if amount > 15:\n",
    "    amount = 0\n",
    "\n",
    "for i in range(1,1+amount):\n",
    "    print(f\"{i} X {num} = {num*i}\")"
   ]
  },
  {
   "cell_type": "code",
   "execution_count": 61,
   "metadata": {},
   "outputs": [],
   "source": [
    "num = int(input(\"Vad för tal vill du göra en multiplikations tabell för?\"))\n",
    "amount = int(input(\"Hur många gånger vill du multiplitera ditt tal?\"))\n",
    "\n",
    "if num < -1:\n",
    "    num = 0\n",
    "if amount < -1:\n",
    "    amount = 0\n",
    "\n",
    "for i in range(1,1+amount):\n",
    "    print(f\"{i} X {num} = {num*i}\")"
   ]
  },
  {
   "cell_type": "code",
   "execution_count": null,
   "metadata": {},
   "outputs": [],
   "source": []
  }
 ]
}