{
 "metadata": {
  "language_info": {
   "codemirror_mode": {
    "name": "ipython",
    "version": 3
   },
   "file_extension": ".py",
   "mimetype": "text/x-python",
   "name": "python",
   "nbconvert_exporter": "python",
   "pygments_lexer": "ipython3",
   "version": "3.8.3-final"
  },
  "orig_nbformat": 2,
  "kernelspec": {
   "name": "python3",
   "display_name": "Python 3.8.3 64-bit (conda)",
   "metadata": {
    "interpreter": {
     "hash": "e64f03b2c214f36c8a0d0471c50d2a9adb953d3117efb41f355fd5cfa2269424"
    }
   }
  }
 },
 "nbformat": 4,
 "nbformat_minor": 2,
 "cells": [
  {
   "cell_type": "code",
   "execution_count": 1,
   "metadata": {},
   "outputs": [
    {
     "output_type": "stream",
     "name": "stdout",
     "text": [
      "1\n3\n5\n7\n9\n945\n"
     ]
    }
   ],
   "source": [
    "y=1\n",
    "\n",
    "for x in range(1, 10, 2):\n",
    "    print(f\"{x}\")\n",
    "    y=y*x\n",
    "\n",
    "print(f\"{y}\")"
   ]
  },
  {
   "cell_type": "code",
   "execution_count": 8,
   "metadata": {},
   "outputs": [
    {
     "output_type": "stream",
     "name": "stdout",
     "text": [
      "154500.0\n"
     ]
    }
   ],
   "source": [
    "kr = 10000\n",
    "r = 1.03\n",
    "kr = 15*kr*r\n",
    "print(f\"{kr}\")"
   ]
  },
  {
   "cell_type": "code",
   "execution_count": 7,
   "metadata": {},
   "outputs": [
    {
     "output_type": "stream",
     "name": "stdout",
     "text": [
      "Du har så här många riksdollar: 154500.0\n"
     ]
    }
   ],
   "source": [
    "r = float(input(\"Ange förändrings faktor i decimaler: \"))\n",
    "riksdolla = int(input(\"Hur många riksdollar har du bror: \"))\n",
    "år = int(input(\"Hur månge år skall dinna riksdollar sova: \"))\n",
    "\n",
    "riksdolla = år*riksdolla*r\n",
    "\n",
    "print( \"Du har så här många riksdollar: \" f\"{riksdolla}\")"
   ]
  },
  {
   "cell_type": "code",
   "execution_count": 12,
   "metadata": {},
   "outputs": [
    {
     "output_type": "stream",
     "name": "stdout",
     "text": [
      "287550.0\n"
     ]
    }
   ],
   "source": [
    "kr = 0\n",
    "r = 1.065\n",
    "\n",
    "for i in range(1, 19):\n",
    "       kr = kr+15000*r\n",
    "print(f\"{kr}\")\n",
    "\n",
    "#Matten stämmer inte helt men skall kolla med kokchun."
   ]
  },
  {
   "cell_type": "code",
   "execution_count": 19,
   "metadata": {},
   "outputs": [
    {
     "output_type": "stream",
     "name": "stdout",
     "text": [
      "Rektangels area är 10\n"
     ]
    }
   ],
   "source": [
    "längd = int(input(\"Vad är längden av din rektangel?\"))\n",
    "bredd = int(input(\"Vad är bredden av din rektangel?\"))\n",
    "\n",
    "area = längd * bredd\n",
    "\n",
    "if längd % bredd == 0:\n",
    "    print(\"Detta är en kvadrat. Arean är \" f\"{area}\")\n",
    "else:\n",
    "    print(\"Rektangels area är \" f\"{area}\")\n",
    "\n",
    "\n",
    "\n",
    "print(\"Om det var ett rätblock så skulle volymen vara \")\n",
    "\n",
    "\n"
   ]
  },
  {
   "cell_type": "code",
   "execution_count": null,
   "metadata": {},
   "outputs": [],
   "source": []
  }
 ]
}