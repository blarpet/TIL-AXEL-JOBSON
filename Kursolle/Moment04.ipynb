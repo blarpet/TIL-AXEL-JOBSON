{
 "metadata": {
  "language_info": {
   "codemirror_mode": {
    "name": "ipython",
    "version": 3
   },
   "file_extension": ".py",
   "mimetype": "text/x-python",
   "name": "python",
   "nbconvert_exporter": "python",
   "pygments_lexer": "ipython3",
   "version": "3.7.3-final"
  },
  "orig_nbformat": 2,
  "kernelspec": {
   "name": "python3",
   "display_name": "Python 3.7.3 32-bit",
   "metadata": {
    "interpreter": {
     "hash": "d1bb9831e6c930bd0a1ae8bd3aaa37e1b7a7ff6f2c216da3a0736498f4ab6204"
    }
   }
  }
 },
 "nbformat": 4,
 "nbformat_minor": 2,
 "cells": [
  {
   "cell_type": "code",
   "execution_count": 1,
   "metadata": {},
   "outputs": [
    {
     "output_type": "stream",
     "name": "stdout",
     "text": [
      "1\n3\n5\n7\n9\n945\n"
     ]
    }
   ],
   "source": [
    "y=1\n",
    "\n",
    "for x in range(1, 10, 2):\n",
    "    print(f\"{x}\")\n",
    "    y=y*x\n",
    "\n",
    "print(f\"{y}\")"
   ]
  },
  {
   "cell_type": "code",
   "execution_count": 8,
   "metadata": {},
   "outputs": [
    {
     "output_type": "stream",
     "name": "stdout",
     "text": [
      "154500.0\n"
     ]
    }
   ],
   "source": [
    "kr = 10000\n",
    "r = 1.03\n",
    "kr = 15*kr*r\n",
    "print(f\"{kr}\")"
   ]
  },
  {
   "cell_type": "code",
   "execution_count": 7,
   "metadata": {},
   "outputs": [
    {
     "output_type": "stream",
     "name": "stdout",
     "text": [
      "Du har så här många riksdollar: 154500.0\n"
     ]
    }
   ],
   "source": [
    "r = float(input(\"Ange förändrings faktor i decimaler: \"))\n",
    "riksdolla = int(input(\"Hur många riksdollar har du bror: \"))\n",
    "år = int(input(\"Hur månge år skall dinna riksdollar sova: \"))\n",
    "\n",
    "riksdolla = år*riksdolla*r\n",
    "\n",
    "print( \"Du har så här många riksdollar: \" f\"{riksdolla}\")"
   ]
  },
  {
   "cell_type": "code",
   "execution_count": 12,
   "metadata": {},
   "outputs": [
    {
     "output_type": "stream",
     "name": "stdout",
     "text": [
      "287550.0\n"
     ]
    }
   ],
   "source": [
    "kr = 0\n",
    "r = 1.065\n",
    "\n",
    "for i in range(1, 19):\n",
    "       kr = kr+15000*r\n",
    "print(f\"{kr}\")\n",
    "\n",
    "#Matten stämmer inte helt men skall kolla med kokchun."
   ]
  },
  {
   "cell_type": "code",
   "execution_count": null,
   "metadata": {},
   "outputs": [],
   "source": [
    "längd = int(input(\"Vad är längden av din rektangel?\"))\n",
    "bredd = int(input(\"Vad är bredden av din rektangel?\"))\n",
    "\n",
    "area = längd * bredd\n",
    "\n",
    "if längd % bredd == 0:\n",
    "    print(\"Detta är en kvadrat. Arean är \" f\"{area}\")\n",
    "else:\n",
    "    print(\"Rektangels area är \" f\"{area}\")\n",
    "\n",
    "\n",
    "\n",
    "print(\"Om det var ett rätblock så skulle volymen vara \")\n"
   ]
  },
  {
   "cell_type": "code",
   "execution_count": 39,
   "metadata": {
    "tags": []
   },
   "outputs": [
    {
     "output_type": "stream",
     "name": "stdout",
     "text": [
      "Multiplikations tabel för 1\n1 X 1 = 1\n1 X 2 = 2\n1 X 3 = 3\n1 X 4 = 4\n1 X 5 = 5\n1 X 6 = 6\n1 X 7 = 7\n1 X 8 = 8\n1 X 9 = 9\n1 X 10 = 10\nMultiplikations tabel för 2\n2 X 1 = 2\n2 X 2 = 4\n2 X 3 = 6\n2 X 4 = 8\n2 X 5 = 10\n2 X 6 = 12\n2 X 7 = 14\n2 X 8 = 16\n2 X 9 = 18\n2 X 10 = 20\nMultiplikations tabel för 3\n3 X 1 = 3\n3 X 2 = 6\n3 X 3 = 9\n3 X 4 = 12\n3 X 5 = 15\n3 X 6 = 18\n3 X 7 = 21\n3 X 8 = 24\n3 X 9 = 27\n3 X 10 = 30\nMultiplikations tabel för 4\n4 X 1 = 4\n4 X 2 = 8\n4 X 3 = 12\n4 X 4 = 16\n4 X 5 = 20\n4 X 6 = 24\n4 X 7 = 28\n4 X 8 = 32\n4 X 9 = 36\n4 X 10 = 40\nMultiplikations tabel för 5\n5 X 1 = 5\n5 X 2 = 10\n5 X 3 = 15\n5 X 4 = 20\n5 X 5 = 25\n5 X 6 = 30\n5 X 7 = 35\n5 X 8 = 40\n5 X 9 = 45\n5 X 10 = 50\nMultiplikations tabel för 6\n6 X 1 = 6\n6 X 2 = 12\n6 X 3 = 18\n6 X 4 = 24\n6 X 5 = 30\n6 X 6 = 36\n6 X 7 = 42\n6 X 8 = 48\n6 X 9 = 54\n6 X 10 = 60\nMultiplikations tabel för 7\n7 X 1 = 7\n7 X 2 = 14\n7 X 3 = 21\n7 X 4 = 28\n7 X 5 = 35\n7 X 6 = 42\n7 X 7 = 49\n7 X 8 = 56\n7 X 9 = 63\n7 X 10 = 70\nMultiplikations tabel för 8\n8 X 1 = 8\n8 X 2 = 16\n8 X 3 = 24\n8 X 4 = 32\n8 X 5 = 40\n8 X 6 = 48\n8 X 7 = 56\n8 X 8 = 64\n8 X 9 = 72\n8 X 10 = 80\nMultiplikations tabel för 9\n9 X 1 = 9\n9 X 2 = 18\n9 X 3 = 27\n9 X 4 = 36\n9 X 5 = 45\n9 X 6 = 54\n9 X 7 = 63\n9 X 8 = 72\n9 X 9 = 81\n9 X 10 = 90\nMultiplikations tabel för 10\n10 X 1 = 10\n10 X 2 = 20\n10 X 3 = 30\n10 X 4 = 40\n10 X 5 = 50\n10 X 6 = 60\n10 X 7 = 70\n10 X 8 = 80\n10 X 9 = 90\n10 X 10 = 100\n"
     ]
    }
   ],
   "source": [
    "#m04u03\n",
    "for i in range(1,11):\n",
    "    print(f\"Multiplikations tabel för {i}\")\n",
    "    for j in range(1,11):\n",
    "        print(f\"{i} X {j} = {i*j}\")"
   ]
  },
  {
   "cell_type": "code",
   "execution_count": 44,
   "metadata": {},
   "outputs": [
    {
     "output_type": "stream",
     "name": "stdout",
     "text": [
      "1 X 12 = 12\n2 X 12 = 24\n3 X 12 = 36\n4 X 12 = 48\n5 X 12 = 60\n6 X 12 = 72\n7 X 12 = 84\n8 X 12 = 96\n9 X 12 = 108\n10 X 12 = 120\n"
     ]
    }
   ],
   "source": [
    "#m04u03\n",
    "tal = int(input(\"Vad för tal vill du göra en multiplikations tabell för?\"))\n",
    "\n",
    "for i in range(1,11):\n",
    "    print(f\"{i} X {tal} = {tal*i}\")"
   ]
  },
  {
   "cell_type": "code",
   "execution_count": 59,
   "metadata": {},
   "outputs": [
    {
     "output_type": "stream",
     "name": "stdout",
     "text": [
      "1 X 15 = 15\n2 X 15 = 30\n3 X 15 = 45\n4 X 15 = 60\n5 X 15 = 75\n6 X 15 = 90\n7 X 15 = 105\n8 X 15 = 120\n9 X 15 = 135\n10 X 15 = 150\n11 X 15 = 165\n12 X 15 = 180\n13 X 15 = 195\n14 X 15 = 210\n15 X 15 = 225\n"
     ]
    }
   ],
   "source": [
    "#m04u03\n",
    "num = int(input(\"Vad för tal vill du göra en multiplikations tabell för?\"))\n",
    "amount = int(input(\"Hur många gånger vill du multiplitera ditt tal?\"))\n",
    "\n",
    "if num > 15:\n",
    "    num = 0\n",
    "if amount > 15:\n",
    "    amount = 0\n",
    "\n",
    "for i in range(1,1+amount):\n",
    "    print(f\"{i} X {num} = {num*i}\")"
   ]
  },
  {
   "cell_type": "code",
   "execution_count": 64,
   "metadata": {},
   "outputs": [
    {
     "output_type": "stream",
     "name": "stdout",
     "text": [
      "1 X 5 = 5\n2 X 5 = 10\n3 X 5 = 15\n4 X 5 = 20\n5 X 5 = 25\n"
     ]
    }
   ],
   "source": [
    "#m04u03\n",
    "num = int(input(\"Vad för tal vill du göra en multiplikations tabell för?\"))\n",
    "amount = int(input(\"Hur många gånger vill du multiplitera ditt tal?\"))\n",
    "\n",
    "if num < -1:\n",
    "    num = abs(num)\n",
    "if amount < -1:\n",
    "    amount = abs(amount)\n",
    "\n",
    "for i in range(1,1+amount):\n",
    "    print(f\"{i} X {num} = {num*i}\")"
   ]
  },
  {
   "cell_type": "code",
   "execution_count": 7,
   "metadata": {},
   "outputs": [
    {
     "output_type": "stream",
     "name": "stdout",
     "text": [
      "Arean är: 100\n",
      "Detta är en kvadrat.\n",
      "Höjd & Volym\n",
      "------------\n",
      "1   |   100 \n",
      "2   |   200 \n",
      "3   |   300 \n",
      "4   |   400 \n",
      "5   |   500 \n",
      "6   |   600 \n",
      "7   |   700 \n",
      "8   |   800 \n",
      "9   |   900 \n",
      "Arean är: 100\n",
      "Detta är en kvadrat.\n",
      "Höjd & Volym\n",
      "------------\n",
      "1   |   100 \n",
      "2   |   200 \n",
      "3   |   300 \n",
      "4   |   400 \n",
      "5   |   500 \n",
      "6   |   600 \n",
      "7   |   700 \n",
      "8   |   800 \n",
      "9   |   900 \n",
      "Arean är: 400\n",
      "Detta är en kvadrat.\n",
      "Höjd & Volym\n",
      "------------\n",
      "1   |   400 \n",
      "2   |   800 \n",
      "3   |   1200 \n",
      "4   |   1600 \n",
      "5   |   2000 \n",
      "6   |   2400 \n",
      "7   |   2800 \n",
      "8   |   3200 \n",
      "9   |   3600 \n"
     ]
    }
   ],
   "source": [
    "def calculation(bredd, höjd, längd):\n",
    "\n",
    "    area = bredd*längd\n",
    "    print(f\"Arean är: {area}\") \n",
    "\n",
    "    if bredd==längd:\n",
    "        print(\"Detta är en kvadrat.\")\n",
    "\n",
    "    print(\"Höjd & Volym\")\n",
    "    print(\"------------\")\n",
    "\n",
    "    for i in range(1, höjd):\n",
    "         print(f\"{i}   |   {i*area} \")\n",
    "\n",
    "cal = str(input(\"Vill du skapa en rektangel min kära son?[Y/N]\"))\n",
    "while cal == \"Y\":\n",
    "    längd = \"a\"\n",
    "    höjd = \"b\"\n",
    "    bredd = \"c\"\n",
    "    while längd == \"a\":\n",
    "        try:\n",
    "            längd = int(input(\"Vad är längden på denna rektangel?\"))\n",
    "        except ValueError:\n",
    "             print(\"Din hjärna är för liten men du för en till chans i livet din lilla babian unge.\")\n",
    "    while höjd == \"b\":\n",
    "        try:\n",
    "            höjd = int(input(\"Vilken höjd vill du använda för denna rektangel?\"))\n",
    "        except ValueError:\n",
    "            print(\"Din hjärna är för liten men du för en till chans i livet din lilla babian unge.\")\n",
    "    while bredd == \"c\":\n",
    "        try:\n",
    "            bredd = int(input(\"Vad är bredden på denna rektangel?\"))\n",
    "        except ValueError:\n",
    "            print(\"Din hjärna är för liten men du för en till chans i livet din lilla babian unge.\")\n",
    "\n",
    "    if höjd < 0:\n",
    "        höjd = 1\n",
    "    elif höjd > 10:\n",
    "        höjd = 10\n",
    "\n",
    "    calculation(bredd, höjd, längd)\n",
    "    cal = str(input(\"Vill du skapa en till rektangel min första son? [Y/N]\"))\n",
    "    if cal == \"N\":\n",
    "        break"
   ]
  },
  {
   "cell_type": "code",
   "execution_count": 10,
   "metadata": {},
   "outputs": [
    {
     "output_type": "error",
     "ename": "SyntaxError",
     "evalue": "invalid syntax (<ipython-input-10-0659dad8ec46>, line 2)",
     "traceback": [
      "\u001b[1;36m  File \u001b[1;32m\"<ipython-input-10-0659dad8ec46>\"\u001b[1;36m, line \u001b[1;32m2\u001b[0m\n\u001b[1;33m    (isinstance(bredd, int)):\u001b[0m\n\u001b[1;37m                             ^\u001b[0m\n\u001b[1;31mSyntaxError\u001b[0m\u001b[1;31m:\u001b[0m invalid syntax\n"
     ]
    }
   ],
   "source": [
    "bredd = int(input(\"Vad är bredden på denna rektangel?\"))\n",
    "(isinstance(bredd, int)):\n",
    "    print(\"HOLY SHIT MICHEAL JACKSON\")\n",
    "else:\n",
    "    print(\"må\")"
   ]
  },
  {
   "cell_type": "code",
   "execution_count": 17,
   "metadata": {},
   "outputs": [
    {
     "output_type": "stream",
     "name": "stdout",
     "text": [
      "Arean är: 100\n",
      "Detta är en kvadrat.\n",
      "Höjd & Volym\n",
      "------------\n",
      "1   |   100 \n",
      "2   |   200 \n",
      "3   |   300 \n",
      "4   |   400 \n",
      "5   |   500 \n",
      "6   |   600 \n",
      "7   |   700 \n",
      "8   |   800 \n",
      "9   |   900 \n",
      "Arean är: 11\n",
      "Höjd & Volym\n",
      "------------\n",
      "1   |   11 \n",
      "2   |   22 \n",
      "3   |   33 \n",
      "4   |   44 \n",
      "5   |   55 \n",
      "6   |   66 \n",
      "7   |   77 \n",
      "8   |   88 \n",
      "9   |   99 \n",
      "Arean är: 121\n",
      "Detta är en kvadrat.\n",
      "Höjd & Volym\n",
      "------------\n",
      "1   |   121 \n",
      "2   |   242 \n",
      "3   |   363 \n",
      "4   |   484 \n",
      "5   |   605 \n",
      "6   |   726 \n",
      "7   |   847 \n",
      "8   |   968 \n",
      "9   |   1089 \n",
      "Arean är: 144\n",
      "Detta är en kvadrat.\n",
      "Höjd & Volym\n",
      "------------\n",
      "1   |   144 \n",
      "2   |   288 \n",
      "3   |   432 \n",
      "4   |   576 \n",
      "5   |   720 \n",
      "6   |   864 \n",
      "7   |   1008 \n",
      "8   |   1152 \n",
      "9   |   1296 \n",
      "Arean är: 169\n",
      "Detta är en kvadrat.\n",
      "Höjd & Volym\n",
      "------------\n",
      "1   |   169 \n",
      "2   |   338 \n",
      "3   |   507 \n",
      "4   |   676 \n",
      "5   |   845 \n",
      "6   |   1014 \n",
      "7   |   1183 \n",
      "8   |   1352 \n",
      "9   |   1521 \n",
      "De värden du satte för Bredd är:  [10, 11, 11, 12, 13]\n",
      "De värden du satte för Längd är:  [10, 1, 11, 12, 13]\n",
      "De värden du satte för Höjd är: [10, 11, 11, 12, 13]\n"
     ]
    }
   ],
   "source": [
    "def calculation(bredd, höjd, längd):\n",
    "\n",
    "    area = bredd*längd\n",
    "    print(f\"Arean är: {area}\") \n",
    "\n",
    "    if bredd==längd:\n",
    "        print(\"Detta är en kvadrat.\")\n",
    "\n",
    "    print(\"Höjd & Volym\")\n",
    "    print(\"------------\")\n",
    "\n",
    "    for i in range(1, höjd):\n",
    "         print(f\"{i}   |   {i*area} \")\n",
    "\n",
    "\n",
    "Blist = []\n",
    "Llist = []\n",
    "Hlist = []\n",
    "\n",
    "\n",
    "\n",
    "cal = str(input(\"Vill du skapa en rektangel min kära son?[Y/N]\"))\n",
    "while cal == \"Y\":\n",
    "    längd = \"a\"\n",
    "    höjd = \"b\"\n",
    "    bredd = \"c\"\n",
    "    while längd == \"a\":\n",
    "        try:\n",
    "            längd = int(input(\"Vad är längden på denna rektangel?\"))\n",
    "        except ValueError:\n",
    "             print(\"Din hjärna är för liten men du för en till chans i livet din lilla babian unge.\")\n",
    "        Llist.append(längd)\n",
    "    while höjd == \"b\":\n",
    "        try:\n",
    "            höjd = int(input(\"Vilken höjd vill du använda för denna rektangel?\"))\n",
    "        except ValueError:\n",
    "            print(\"Din hjärna är för liten men du för en till chans i livet din lilla babian unge.\")\n",
    "        Hlist.append(höjd)\n",
    "    while bredd == \"c\":\n",
    "        try:\n",
    "            bredd = int(input(\"Vad är bredden på denna rektangel?\"))\n",
    "        except ValueError:\n",
    "            print(\"Din hjärna är för liten men du för en till chans i livet din lilla babian unge.\")\n",
    "        Blist.append(bredd)\n",
    "\n",
    "\n",
    "\n",
    "\n",
    "\n",
    "\n",
    "    if höjd < 0:\n",
    "        höjd = 1\n",
    "    elif höjd > 10:\n",
    "        höjd = 10\n",
    "\n",
    "\n",
    "    calculation(bredd, höjd, längd)\n",
    "    cal = str(input(\"Vill du skapa en till rektangel min första son? [Y/N]\"))\n",
    "    if cal == \"N\":\n",
    "        break\n",
    "q = str(input(\"Vill du ha lite data? [Y/N]\"))\n",
    "if q == \"Y\":\n",
    "    print(f\"De värden du satte för Bredd är:  {Blist}\" )\n",
    "    print(f\"De värden du satte för Längd är:  {Llist}\" )\n",
    "    print(f\"De värden du satte för Höjd är: {Hlist}\" )\n",
    "if q == \"N\":\n",
    "    print(\"suck me\")"
   ]
  },
  {
   "cell_type": "code",
   "execution_count": 1,
   "metadata": {},
   "outputs": [
    {
     "output_type": "stream",
     "name": "stdout",
     "text": [
      "['1', '2', '67', '7', '3']\n"
     ]
    }
   ],
   "source": [
    "list = []\n",
    "i = 1\n",
    "while i < 6:\n",
    "    a = input(\"Please enter \" + str(i) +  \" list : \")\n",
    "    list.append(a)\n",
    "    i+=1\n",
    "print(list)"
   ]
  },
  {
   "cell_type": "code",
   "execution_count": null,
   "metadata": {},
   "outputs": [],
   "source": []
  }
 ]
}