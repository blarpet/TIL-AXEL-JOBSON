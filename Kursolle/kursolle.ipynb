{
 "metadata": {
  "language_info": {
   "codemirror_mode": {
    "name": "ipython",
    "version": 3
   },
   "file_extension": ".py",
   "mimetype": "text/x-python",
   "name": "python",
   "nbconvert_exporter": "python",
   "pygments_lexer": "ipython3",
   "version": "3.7.3-final"
  },
  "orig_nbformat": 2,
  "kernelspec": {
   "name": "Python 3.7.3 32-bit",
   "display_name": "Python 3.7.3 32-bit",
   "metadata": {
    "interpreter": {
     "hash": "d1bb9831e6c930bd0a1ae8bd3aaa37e1b7a7ff6f2c216da3a0736498f4ab6204"
    }
   }
  }
 },
 "nbformat": 4,
 "nbformat_minor": 2,
 "cells": [
  {
   "cell_type": "code",
   "execution_count": 63,
   "metadata": {},
   "outputs": [
    {
     "output_type": "stream",
     "name": "stdout",
     "text": [
      "Din brutolön är 15000 Kr.\nDu får betala 3204 Kr i kommunalskatt.\nDin får betala 1722 Kr i landstingsskat.\nDu får 10074 Kr efter skatt.\n"
     ]
    }
   ],
   "source": [
    "brutolön = int(input(\"Ange din brutolön i heltal:\"))\n",
    "\n",
    "kommunalskatt = int(brutolön*0.2136)\n",
    "\n",
    "landstingsskat = int(brutolön*0.1148)\n",
    "\n",
    "efterskatt = int(brutolön-landstingsskat-kommunalskatt)\n",
    "\n",
    "print(\"Din brutolön är \" f\"{brutolön} \"\"Kr.\")\n",
    "print(\"Du får betala \" f\"{kommunalskatt} \"\"Kr i kommunalskatt.\")\n",
    "print(\"Din får betala \" f\"{landstingsskat} \"\"Kr i landstingsskat.\")\n",
    "print(\"Du får \" f\"{efterskatt} \"\"Kr efter skatt.\" )\n",
    "\n"
   ]
  },
  {
   "cell_type": "code",
   "execution_count": 65,
   "metadata": {},
   "outputs": [
    {
     "output_type": "stream",
     "name": "stdout",
     "text": [
      "Din brutolön är 100 Kr.\nDu får betala 21 Kr i kommunalskatt.\nDin får betala 11 Kr i landstingsskat.\nDu får 68 Kr efter skatt.\nDin årslön är 816 Kr.\n"
     ]
    }
   ],
   "source": [
    "brutolön = int(input(\"Ange din brutolön i heltal:\"))\n",
    "\n",
    "kommunalskatt = int(brutolön*0.2136)\n",
    "\n",
    "landstingsskat = int(brutolön*0.1148)\n",
    "\n",
    "efterskatt = int(brutolön-landstingsskat-kommunalskatt)\n",
    "\n",
    "årslön = int(efterskatt*12)\n",
    "\n",
    "print(\"Din brutolön är \" f\"{brutolön} \"\"Kr.\")\n",
    "print(\"Du får betala \" f\"{kommunalskatt} \"\"Kr i kommunalskatt.\")\n",
    "print(\"Din får betala \" f\"{landstingsskat} \"\"Kr i landstingsskat.\")\n",
    "print(\"Du får \" f\"{efterskatt} \"\"Kr efter skatt.\" )\n",
    "print(\"Din årslön är \" f\"{årslön} \"\"Kr.\" )"
   ]
  },
  {
   "cell_type": "code",
   "execution_count": 2,
   "metadata": {},
   "outputs": [
    {
     "output_type": "stream",
     "name": "stdout",
     "text": [
      "Din årslön är 201480 Kr. Eftersom du betalar skatt.\n"
     ]
    }
   ],
   "source": [
    "brutolön = int(input(\"Ange din brutolön i heltal:\"))\n",
    "if brutolön*12 > 19247:\n",
    "    kommunalskatt = int(brutolön*0.2136)\n",
    "    landstingsskat = int(brutolön*0.1148)\n",
    "    efterskatt = int(brutolön-landstingsskat-kommunalskatt)\n",
    "    årslön = int(efterskatt*12)\n",
    "    print(\"Din årslön är \" f\"{årslön} \"\"Kr. Eftersom du betalar skatt.\" )\n",
    "if brutolön*12 < 19247:\n",
    "    brutolön = brutolön*12\n",
    "    print(\"Din årslön är \" f\"{brutolön}\" \"Kr. Eftersom du inte betalar skatt.\")\n"
   ]
  },
  {
   "cell_type": "code",
   "execution_count": null,
   "metadata": {},
   "outputs": [],
   "source": []
  }
 ]
}